{
 "cells": [
  {
   "cell_type": "markdown",
   "metadata": {
    "colab_type": "text",
    "id": "0fVD-WRKhgE2"
   },
   "source": [
    "# Linear regression"
   ]
  },
  {
   "cell_type": "code",
   "execution_count": 29,
   "metadata": {
    "colab": {},
    "colab_type": "code",
    "id": "DB6NUjsLhTLd"
   },
   "outputs": [],
   "source": [
    "import matplotlib.pyplot as plt\n",
    "import seaborn as sns\n",
    "%matplotlib inline\n",
    "\n",
    "import numpy as np\n",
    "import pandas as pd\n",
    "import pylab as py"
   ]
  },
  {
   "cell_type": "markdown",
   "metadata": {
    "colab_type": "text",
    "id": "8PHcEKITkFAc"
   },
   "source": [
    "### Data production"
   ]
  },
  {
   "cell_type": "markdown",
   "metadata": {
    "colab_type": "text",
    "id": "pnbVmOFqIDv_"
   },
   "source": [
    "Data generation according to a linear relationship: \n",
    "\n",
    "$$\n",
    "y = \\theta_0 + \\theta_1 \\cdot x\n",
    "$$\n",
    "\n",
    "Parameters for the simulation: $\\theta_0 = 1$ i $\\theta_1 = 3$.\n",
    "\n",
    "$$\n",
    "\\vec{\\theta} = (\\theta_{0}, \\theta_{1})\n",
    "$$"
   ]
  },
  {
   "cell_type": "code",
   "execution_count": 30,
   "metadata": {},
   "outputs": [],
   "source": [
    "theta0 = 1\n",
    "theta1 = 3\n",
    "theta = np.array([theta0, theta1])"
   ]
  },
  {
   "cell_type": "markdown",
   "metadata": {},
   "source": [
    "Data generation (**nPoints**) according the model and adding column with Gaussian noise data: $$ y_{noise} = y + Rand(N(0,1)) $$"
   ]
  },
  {
   "cell_type": "code",
   "execution_count": 31,
   "metadata": {},
   "outputs": [
    {
     "data": {
      "text/html": [
       "<div>\n",
       "<style scoped>\n",
       "    .dataframe tbody tr th:only-of-type {\n",
       "        vertical-align: middle;\n",
       "    }\n",
       "\n",
       "    .dataframe tbody tr th {\n",
       "        vertical-align: top;\n",
       "    }\n",
       "\n",
       "    .dataframe thead th {\n",
       "        text-align: right;\n",
       "    }\n",
       "</style>\n",
       "<table border=\"1\" class=\"dataframe\">\n",
       "  <thead>\n",
       "    <tr style=\"text-align: right;\">\n",
       "      <th></th>\n",
       "      <th>x</th>\n",
       "      <th>y</th>\n",
       "      <th>y_noise</th>\n",
       "    </tr>\n",
       "  </thead>\n",
       "  <tbody>\n",
       "    <tr>\n",
       "      <th>0</th>\n",
       "      <td>0.00000</td>\n",
       "      <td>1.000000</td>\n",
       "      <td>1.363748</td>\n",
       "    </tr>\n",
       "    <tr>\n",
       "      <th>1</th>\n",
       "      <td>0.10101</td>\n",
       "      <td>1.303030</td>\n",
       "      <td>1.323108</td>\n",
       "    </tr>\n",
       "    <tr>\n",
       "      <th>2</th>\n",
       "      <td>0.20202</td>\n",
       "      <td>1.606061</td>\n",
       "      <td>0.733280</td>\n",
       "    </tr>\n",
       "    <tr>\n",
       "      <th>3</th>\n",
       "      <td>0.30303</td>\n",
       "      <td>1.909091</td>\n",
       "      <td>1.824942</td>\n",
       "    </tr>\n",
       "    <tr>\n",
       "      <th>4</th>\n",
       "      <td>0.40404</td>\n",
       "      <td>2.212121</td>\n",
       "      <td>3.277859</td>\n",
       "    </tr>\n",
       "    <tr>\n",
       "      <th>...</th>\n",
       "      <td>...</td>\n",
       "      <td>...</td>\n",
       "      <td>...</td>\n",
       "    </tr>\n",
       "    <tr>\n",
       "      <th>95</th>\n",
       "      <td>9.59596</td>\n",
       "      <td>29.787879</td>\n",
       "      <td>31.340461</td>\n",
       "    </tr>\n",
       "    <tr>\n",
       "      <th>96</th>\n",
       "      <td>9.69697</td>\n",
       "      <td>30.090909</td>\n",
       "      <td>30.622207</td>\n",
       "    </tr>\n",
       "    <tr>\n",
       "      <th>97</th>\n",
       "      <td>9.79798</td>\n",
       "      <td>30.393939</td>\n",
       "      <td>30.962635</td>\n",
       "    </tr>\n",
       "    <tr>\n",
       "      <th>98</th>\n",
       "      <td>9.89899</td>\n",
       "      <td>30.696970</td>\n",
       "      <td>29.133592</td>\n",
       "    </tr>\n",
       "    <tr>\n",
       "      <th>99</th>\n",
       "      <td>10.00000</td>\n",
       "      <td>31.000000</td>\n",
       "      <td>32.177336</td>\n",
       "    </tr>\n",
       "  </tbody>\n",
       "</table>\n",
       "<p>100 rows × 3 columns</p>\n",
       "</div>"
      ],
      "text/plain": [
       "           x          y    y_noise\n",
       "0    0.00000   1.000000   1.363748\n",
       "1    0.10101   1.303030   1.323108\n",
       "2    0.20202   1.606061   0.733280\n",
       "3    0.30303   1.909091   1.824942\n",
       "4    0.40404   2.212121   3.277859\n",
       "..       ...        ...        ...\n",
       "95   9.59596  29.787879  31.340461\n",
       "96   9.69697  30.090909  30.622207\n",
       "97   9.79798  30.393939  30.962635\n",
       "98   9.89899  30.696970  29.133592\n",
       "99  10.00000  31.000000  32.177336\n",
       "\n",
       "[100 rows x 3 columns]"
      ]
     },
     "execution_count": 31,
     "metadata": {},
     "output_type": "execute_result"
    }
   ],
   "source": [
    "nPoints = 100\n",
    "x = np.linspace(0, 10, nPoints)\n",
    "x = np.reshape(x, (-1,1))\n",
    "\n",
    "df = pd.DataFrame(data=x, columns = [\"x\"])\n",
    "df[\"y\"] = theta[0] + df[\"x\"]*theta[1]\n",
    "df[\"y_noise\"] = df.y + np.random.randn(100)\n",
    "df"
   ]
  },
  {
   "cell_type": "markdown",
   "metadata": {
    "colab_type": "text",
    "id": "yewJ96CHIDwL"
   },
   "source": [
    "### Data visualisation"
   ]
  },
  {
   "cell_type": "code",
   "execution_count": 32,
   "metadata": {},
   "outputs": [
    {
     "data": {
      "image/png": "[encoded data removed]",
      "text/plain": [
       "<Figure size 1000x500 with 2 Axes>"
      ]
     },
     "metadata": {},
     "output_type": "display_data"
    }
   ],
   "source": [
    "sns.set_style(\"whitegrid\")\n",
    "fig, axes = plt.subplots(1,2, figsize=(10,5))\n",
    "\n",
    "axes[0].plot(df.x, df.y, \"bo\", df.x, df.y_noise, \"ro\")\n",
    "axes[1].hist(df.y - df.y_noise)\n",
    "\n",
    "axes[0].set_xlabel(\"x\")\n",
    "axes[0].set_ylabel(\"y\")\n",
    "axes[1].set_xlabel(r'$y - \\hat{y}$')\n",
    "axes[1].set_ylabel(\"Number of events\");"
   ]
  },
  {
   "cell_type": "markdown",
   "metadata": {},
   "source": [
    "### Normal equations algorithm\n",
    "#### Calculation the parameters minimizing the loss function\n",
    "$\\qquad$$ \\theta = (X^T X )^{-1} X^T \\mathbf {y}$"
   ]
  },
  {
   "cell_type": "code",
   "execution_count": 33,
   "metadata": {},
   "outputs": [
    {
     "name": "stdout",
     "output_type": "stream",
     "text": [
      "Values estimated using normal equations for nominal data: [1. 3.]\n"
     ]
    }
   ],
   "source": [
    "def normal_equations(x,y):  \n",
    "    x_expanded = np.column_stack((np.ones(x.shape[0]), x))\n",
    "    theta = np.dot(np.dot(np.linalg.inv(np.dot(x_expanded.T, x_expanded)), x_expanded.T), y)\n",
    "    return theta\n",
    "\n",
    "theta_est = normal_equations(df[\"x\"], df[\"y\"])\n",
    "print(\"Values estimated using normal equations for nominal data:\", theta_est.T)"
   ]
  },
  {
   "cell_type": "code",
   "execution_count": 34,
   "metadata": {},
   "outputs": [
    {
     "name": "stdout",
     "output_type": "stream",
     "text": [
      "Values estimated using normal equations for noisy data: [0.93053075 3.01544652]\n",
      "Values estimated using normal equations for noisy data: [1.8584411  2.87688791] for 5% cases.\n"
     ]
    }
   ],
   "source": [
    "theta_est = normal_equations(df[\"x\"], df[\"y_noise\"])\n",
    "print(\"Values estimated using normal equations for noisy data:\", theta_est.T)\n",
    "\n",
    "df_subsample = df.sample(frac=0.05)\n",
    "theta_est = normal_equations(df_subsample[\"x\"], df_subsample[\"y_noise\"])\n",
    "print(f\"Values estimated using normal equations for noisy data: {theta_est.T} for 5% cases.\")"
   ]
  },
  {
   "cell_type": "markdown",
   "metadata": {},
   "source": [
    "### Gradient descent\n",
    "#### based on least squares algorithm "
   ]
  },
  {
   "cell_type": "code",
   "execution_count": 35,
   "metadata": {},
   "outputs": [
    {
     "name": "stdout",
     "output_type": "stream",
     "text": [
      "Values estimated using the nominal initial value of theta parameters: [1. 3.]\n",
      "Values estimated using non-nominal initial value of theta parameters: [1.06901228 2.9896233 ]\n",
      "CPU times: user 107 ms, sys: 9.02 ms, total: 116 ms\n",
      "Wall time: 103 ms\n"
     ]
    }
   ],
   "source": [
    "%%time\n",
    "def iterative_batch_gradient(x, y, init_theta, alpha, nIter): \n",
    "    theta = init_theta\n",
    "    theta_est = np.copy(theta)\n",
    "    theta_est = np.reshape(theta_est, (-1,len(theta)))\n",
    "    batchSize = len(x)\n",
    "    for iteration in range(nIter):  \n",
    "        x_batch = np.column_stack((np.ones(batchSize), x))\n",
    "        y_batch = y   \n",
    "        delta = 2.0*alpha*(np.sum(theta*x_batch, axis=1) - y_batch)\n",
    "        delta = np.array(delta)\n",
    "        delta = np.reshape(delta, (-1,1))     \n",
    "        delta = delta*x_batch     \n",
    "        delta = np.mean(delta, axis=0)\n",
    "        delta = np.reshape(delta, (1,-1)) \n",
    "        theta = theta - delta\n",
    "        theta_est = np.append(theta_est, theta, axis=0)\n",
    "    return theta_est\n",
    "\n",
    "theta_est = iterative_batch_gradient(df[\"x\"], df[\"y\"], init_theta=theta, alpha=0.01, nIter=1)    \n",
    "print(\"Values estimated using the nominal initial value of theta parameters:\",theta_est[-1])\n",
    "\n",
    "theta_est = iterative_batch_gradient(df[\"x\"], df[\"y\"], init_theta=theta+1, alpha=0.01, nIter=500)    \n",
    "print(\"Values estimated using non-nominal initial value of theta parameters:\",theta_est[-1])"
   ]
  },
  {
   "cell_type": "markdown",
   "metadata": {},
   "source": [
    "### Stochastic gradient descent\n",
    "#### based on least squares algorithm "
   ]
  },
  {
   "cell_type": "code",
   "execution_count": 36,
   "metadata": {},
   "outputs": [
    {
     "name": "stdout",
     "output_type": "stream",
     "text": [
      "Values estimated using the nominal initial value of theta parameters: [1. 3.]\n",
      "Values estimated using non-nominal initial value of theta parameters: [1.80253979 2.84849215]\n",
      "CPU times: user 7.26 ms, sys: 95 µs, total: 7.36 ms\n",
      "Wall time: 4.81 ms\n"
     ]
    }
   ],
   "source": [
    "%%time\n",
    "def iterative_stochastic_gradient(x, y, init_theta, alpha, nIter):\n",
    "    theta = init_theta\n",
    "    theta = np.reshape(theta,(1,2))\n",
    "    theta_est = np.copy(theta)\n",
    "    theta_est = np.reshape(theta_est, (-1,2))\n",
    "    indices = np.random.randint(low=0, high=len(x)-1, size=(nIter))\n",
    "    x_expanded = np.column_stack((np.ones(x.shape[0]), x))\n",
    "    for iteration in range(nIter):\n",
    "        x_sample = x[indices[iteration]]\n",
    "        x_sample = np.column_stack((np.ones(1), x_sample))\n",
    "        y_sample = y[indices[iteration]]\n",
    "        theta = theta - 2.0*alpha*(np.dot(theta, x_sample.T) - y_sample)*x_sample\n",
    "        theta_est = np.append(theta_est, theta, axis=0)\n",
    "    return theta_est\n",
    "\n",
    "theta_est = iterative_stochastic_gradient(df[\"x\"], df[\"y\"], theta, 0.01, 1)    \n",
    "print(\"Values estimated using the nominal initial value of theta parameters:\",theta_est[-1])\n",
    "\n",
    "theta_est = iterative_stochastic_gradient(df[\"x\"], df[\"y\"], theta+1, 0.01, 10)    \n",
    "print(\"Values estimated using non-nominal initial value of theta parameters:\",theta_est[-1])"
   ]
  },
  {
   "cell_type": "code",
   "execution_count": 37,
   "metadata": {},
   "outputs": [
    {
     "name": "stdout",
     "output_type": "stream",
     "text": [
      "Final parameter value for alpha=0.1, nIter = 10: [-2019.52031214 -3024.96361126]\n",
      "Final parameter value for alpha=0.05, nIter = 10: [2.24164268 4.42995881]\n",
      "Final parameter value for alpha=0.001, nIter = 10: [1.72580987 2.82580451]\n",
      "Final parameter value for alpha=0.001, nIter = 100: [1.47521603 2.86508511]\n",
      "Original parameter value: [1 3]\n"
     ]
    }
   ],
   "source": [
    "theta_alpha_01 = iterative_stochastic_gradient(df[\"x\"], df[\"y_noise\"], theta+1, alpha = 0.1, nIter = 10) \n",
    "theta_alpha_005 = iterative_stochastic_gradient(df[\"x\"], df[\"y_noise\"], theta+1, alpha = 0.05, nIter = 10) \n",
    "theta_alpha_001 = iterative_stochastic_gradient(df[\"x\"], df[\"y_noise\"], theta+1, alpha = 0.01, nIter = 10)\n",
    "theta_alpha = iterative_stochastic_gradient(df[\"x\"], df[\"y_noise\"], theta+1, alpha = 0.01, nIter = 100)\n",
    "\n",
    "print(\"Final parameter value for alpha=0.1, nIter = 10:\",theta_alpha_01[-1])\n",
    "print(\"Final parameter value for alpha=0.05, nIter = 10:\",theta_alpha_005[-1])\n",
    "print(\"Final parameter value for alpha=0.001, nIter = 10:\",theta_alpha_001[-1])\n",
    "print(\"Final parameter value for alpha=0.001, nIter = 100:\",theta_alpha[-1])\n",
    "print(\"Original parameter value:\",theta)"
   ]
  },
  {
   "cell_type": "markdown",
   "metadata": {},
   "source": [
    "### Modeling the number of cyclists using linear regression using gradient decent"
   ]
  },
  {
   "cell_type": "code",
   "execution_count": 38,
   "metadata": {},
   "outputs": [
    {
     "data": {
      "text/html": [
       "<div>\n",
       "<style scoped>\n",
       "    .dataframe tbody tr th:only-of-type {\n",
       "        vertical-align: middle;\n",
       "    }\n",
       "\n",
       "    .dataframe tbody tr th {\n",
       "        vertical-align: top;\n",
       "    }\n",
       "\n",
       "    .dataframe thead th {\n",
       "        text-align: right;\n",
       "    }\n",
       "</style>\n",
       "<table border=\"1\" class=\"dataframe\">\n",
       "  <thead>\n",
       "    <tr style=\"text-align: right;\">\n",
       "      <th></th>\n",
       "      <th>Data</th>\n",
       "      <th>Armii Krajowej</th>\n",
       "      <th>Bora-Komorowskiego</th>\n",
       "      <th>Bulwary</th>\n",
       "      <th>Dworzec</th>\n",
       "      <th>Grzegórzecka</th>\n",
       "      <th>Kamieńskiego</th>\n",
       "      <th>Klimeckiego</th>\n",
       "      <th>Kopernika</th>\n",
       "      <th>Kotlarska</th>\n",
       "      <th>...</th>\n",
       "      <th>Smoleńsk</th>\n",
       "      <th>Tyniecka</th>\n",
       "      <th>Wadowicka</th>\n",
       "      <th>Wielicka</th>\n",
       "      <th>Średnia temp.</th>\n",
       "      <th>Min. temp.</th>\n",
       "      <th>Maks. temp.</th>\n",
       "      <th>Odczuwalna temp.</th>\n",
       "      <th>Opady (mm)</th>\n",
       "      <th>Wiatr</th>\n",
       "    </tr>\n",
       "  </thead>\n",
       "  <tbody>\n",
       "    <tr>\n",
       "      <th>0</th>\n",
       "      <td>2016-11-18</td>\n",
       "      <td>0.0</td>\n",
       "      <td>0.0</td>\n",
       "      <td>421</td>\n",
       "      <td>0</td>\n",
       "      <td>0.0</td>\n",
       "      <td>0.0</td>\n",
       "      <td>0.0</td>\n",
       "      <td>0.0</td>\n",
       "      <td>560</td>\n",
       "      <td>...</td>\n",
       "      <td>0.0</td>\n",
       "      <td>0.0</td>\n",
       "      <td>212</td>\n",
       "      <td>329</td>\n",
       "      <td>7.0</td>\n",
       "      <td>3.0</td>\n",
       "      <td>11.0</td>\n",
       "      <td>4.0</td>\n",
       "      <td>0.0</td>\n",
       "      <td>8.0</td>\n",
       "    </tr>\n",
       "    <tr>\n",
       "      <th>1</th>\n",
       "      <td>2016-11-19</td>\n",
       "      <td>0.0</td>\n",
       "      <td>0.0</td>\n",
       "      <td>328</td>\n",
       "      <td>0</td>\n",
       "      <td>0.0</td>\n",
       "      <td>0.0</td>\n",
       "      <td>0.0</td>\n",
       "      <td>0.0</td>\n",
       "      <td>232</td>\n",
       "      <td>...</td>\n",
       "      <td>0.0</td>\n",
       "      <td>0.0</td>\n",
       "      <td>206</td>\n",
       "      <td>151</td>\n",
       "      <td>9.0</td>\n",
       "      <td>5.0</td>\n",
       "      <td>13.0</td>\n",
       "      <td>7.0</td>\n",
       "      <td>0.0</td>\n",
       "      <td>11.0</td>\n",
       "    </tr>\n",
       "    <tr>\n",
       "      <th>2</th>\n",
       "      <td>2016-11-20</td>\n",
       "      <td>0.0</td>\n",
       "      <td>0.0</td>\n",
       "      <td>539</td>\n",
       "      <td>0</td>\n",
       "      <td>0.0</td>\n",
       "      <td>0.0</td>\n",
       "      <td>0.0</td>\n",
       "      <td>0.0</td>\n",
       "      <td>285</td>\n",
       "      <td>...</td>\n",
       "      <td>0.0</td>\n",
       "      <td>0.0</td>\n",
       "      <td>212</td>\n",
       "      <td>182</td>\n",
       "      <td>8.0</td>\n",
       "      <td>4.0</td>\n",
       "      <td>11.0</td>\n",
       "      <td>6.0</td>\n",
       "      <td>0.0</td>\n",
       "      <td>9.0</td>\n",
       "    </tr>\n",
       "    <tr>\n",
       "      <th>3</th>\n",
       "      <td>2016-11-21</td>\n",
       "      <td>0.0</td>\n",
       "      <td>0.0</td>\n",
       "      <td>1002</td>\n",
       "      <td>0</td>\n",
       "      <td>0.0</td>\n",
       "      <td>0.0</td>\n",
       "      <td>0.0</td>\n",
       "      <td>0.0</td>\n",
       "      <td>953</td>\n",
       "      <td>...</td>\n",
       "      <td>0.0</td>\n",
       "      <td>0.0</td>\n",
       "      <td>382</td>\n",
       "      <td>479</td>\n",
       "      <td>10.0</td>\n",
       "      <td>6.0</td>\n",
       "      <td>14.0</td>\n",
       "      <td>7.0</td>\n",
       "      <td>0.0</td>\n",
       "      <td>11.0</td>\n",
       "    </tr>\n",
       "    <tr>\n",
       "      <th>4</th>\n",
       "      <td>2016-11-22</td>\n",
       "      <td>0.0</td>\n",
       "      <td>0.0</td>\n",
       "      <td>1132</td>\n",
       "      <td></td>\n",
       "      <td>0.0</td>\n",
       "      <td>0.0</td>\n",
       "      <td>0.0</td>\n",
       "      <td>0.0</td>\n",
       "      <td>1039</td>\n",
       "      <td>...</td>\n",
       "      <td>0.0</td>\n",
       "      <td>0.0</td>\n",
       "      <td>386</td>\n",
       "      <td>502</td>\n",
       "      <td>10.0</td>\n",
       "      <td>6.0</td>\n",
       "      <td>13.0</td>\n",
       "      <td>7.0</td>\n",
       "      <td>0.0</td>\n",
       "      <td>10.0</td>\n",
       "    </tr>\n",
       "    <tr>\n",
       "      <th>...</th>\n",
       "      <td>...</td>\n",
       "      <td>...</td>\n",
       "      <td>...</td>\n",
       "      <td>...</td>\n",
       "      <td>...</td>\n",
       "      <td>...</td>\n",
       "      <td>...</td>\n",
       "      <td>...</td>\n",
       "      <td>...</td>\n",
       "      <td>...</td>\n",
       "      <td>...</td>\n",
       "      <td>...</td>\n",
       "      <td>...</td>\n",
       "      <td>...</td>\n",
       "      <td>...</td>\n",
       "      <td>...</td>\n",
       "      <td>...</td>\n",
       "      <td>...</td>\n",
       "      <td>...</td>\n",
       "      <td>...</td>\n",
       "      <td>...</td>\n",
       "    </tr>\n",
       "    <tr>\n",
       "      <th>2182</th>\n",
       "      <td>2022-11-09</td>\n",
       "      <td>825.0</td>\n",
       "      <td>906.0</td>\n",
       "      <td>1384</td>\n",
       "      <td>1929</td>\n",
       "      <td>1967.0</td>\n",
       "      <td>874.0</td>\n",
       "      <td>1247.0</td>\n",
       "      <td>2350.0</td>\n",
       "      <td>2283</td>\n",
       "      <td>...</td>\n",
       "      <td>1010.0</td>\n",
       "      <td>993.0</td>\n",
       "      <td>1377</td>\n",
       "      <td>1303</td>\n",
       "      <td>0.0</td>\n",
       "      <td>0.0</td>\n",
       "      <td>0.0</td>\n",
       "      <td>0.0</td>\n",
       "      <td>0.0</td>\n",
       "      <td>0.0</td>\n",
       "    </tr>\n",
       "    <tr>\n",
       "      <th>2183</th>\n",
       "      <td>2022-11-10</td>\n",
       "      <td>514.0</td>\n",
       "      <td>658.0</td>\n",
       "      <td>783</td>\n",
       "      <td>1440</td>\n",
       "      <td>1505.0</td>\n",
       "      <td>673.0</td>\n",
       "      <td>921.0</td>\n",
       "      <td>1741.0</td>\n",
       "      <td>1743</td>\n",
       "      <td>...</td>\n",
       "      <td>846.0</td>\n",
       "      <td>437.0</td>\n",
       "      <td>972</td>\n",
       "      <td>909</td>\n",
       "      <td>0.0</td>\n",
       "      <td>0.0</td>\n",
       "      <td>0.0</td>\n",
       "      <td>0.0</td>\n",
       "      <td>0.0</td>\n",
       "      <td>0.0</td>\n",
       "    </tr>\n",
       "    <tr>\n",
       "      <th>2184</th>\n",
       "      <td>2022-11-11</td>\n",
       "      <td>536.0</td>\n",
       "      <td>397.0</td>\n",
       "      <td>1329</td>\n",
       "      <td>764</td>\n",
       "      <td>1035.0</td>\n",
       "      <td>561.0</td>\n",
       "      <td>720.0</td>\n",
       "      <td>1174.0</td>\n",
       "      <td>1120</td>\n",
       "      <td>...</td>\n",
       "      <td>470.0</td>\n",
       "      <td>1407.0</td>\n",
       "      <td>646</td>\n",
       "      <td>610</td>\n",
       "      <td>0.0</td>\n",
       "      <td>0.0</td>\n",
       "      <td>0.0</td>\n",
       "      <td>0.0</td>\n",
       "      <td>0.0</td>\n",
       "      <td>0.0</td>\n",
       "    </tr>\n",
       "    <tr>\n",
       "      <th>2185</th>\n",
       "      <td>2022-11-12</td>\n",
       "      <td>523.0</td>\n",
       "      <td>496.0</td>\n",
       "      <td>1288</td>\n",
       "      <td>827</td>\n",
       "      <td>1045.0</td>\n",
       "      <td>635.0</td>\n",
       "      <td>643.0</td>\n",
       "      <td>1049.0</td>\n",
       "      <td>986</td>\n",
       "      <td>...</td>\n",
       "      <td>518.0</td>\n",
       "      <td>1449.0</td>\n",
       "      <td>627</td>\n",
       "      <td>646</td>\n",
       "      <td>0.0</td>\n",
       "      <td>0.0</td>\n",
       "      <td>0.0</td>\n",
       "      <td>0.0</td>\n",
       "      <td>0.0</td>\n",
       "      <td>0.0</td>\n",
       "    </tr>\n",
       "    <tr>\n",
       "      <th>2186</th>\n",
       "      <td>2022-11-13</td>\n",
       "      <td>281.0</td>\n",
       "      <td>287.0</td>\n",
       "      <td>661</td>\n",
       "      <td>586</td>\n",
       "      <td>944.0</td>\n",
       "      <td>302.0</td>\n",
       "      <td>352.0</td>\n",
       "      <td>759.0</td>\n",
       "      <td>747</td>\n",
       "      <td>...</td>\n",
       "      <td>424.0</td>\n",
       "      <td>731.0</td>\n",
       "      <td>404</td>\n",
       "      <td>385</td>\n",
       "      <td>0.0</td>\n",
       "      <td>0.0</td>\n",
       "      <td>0.0</td>\n",
       "      <td>0.0</td>\n",
       "      <td>0.0</td>\n",
       "      <td>0.0</td>\n",
       "    </tr>\n",
       "  </tbody>\n",
       "</table>\n",
       "<p>2187 rows × 24 columns</p>\n",
       "</div>"
      ],
      "text/plain": [
       "           Data  Armii Krajowej  Bora-Komorowskiego  Bulwary Dworzec  \\\n",
       "0    2016-11-18             0.0                 0.0      421       0   \n",
       "1    2016-11-19             0.0                 0.0      328       0   \n",
       "2    2016-11-20             0.0                 0.0      539       0   \n",
       "3    2016-11-21             0.0                 0.0     1002       0   \n",
       "4    2016-11-22             0.0                 0.0     1132           \n",
       "...         ...             ...                 ...      ...     ...   \n",
       "2182 2022-11-09           825.0               906.0     1384    1929   \n",
       "2183 2022-11-10           514.0               658.0      783    1440   \n",
       "2184 2022-11-11           536.0               397.0     1329     764   \n",
       "2185 2022-11-12           523.0               496.0     1288     827   \n",
       "2186 2022-11-13           281.0               287.0      661     586   \n",
       "\n",
       "      Grzegórzecka  Kamieńskiego  Klimeckiego  Kopernika  Kotlarska  ...  \\\n",
       "0              0.0           0.0          0.0        0.0        560  ...   \n",
       "1              0.0           0.0          0.0        0.0        232  ...   \n",
       "2              0.0           0.0          0.0        0.0        285  ...   \n",
       "3              0.0           0.0          0.0        0.0        953  ...   \n",
       "4              0.0           0.0          0.0        0.0       1039  ...   \n",
       "...            ...           ...          ...        ...        ...  ...   \n",
       "2182        1967.0         874.0       1247.0     2350.0       2283  ...   \n",
       "2183        1505.0         673.0        921.0     1741.0       1743  ...   \n",
       "2184        1035.0         561.0        720.0     1174.0       1120  ...   \n",
       "2185        1045.0         635.0        643.0     1049.0        986  ...   \n",
       "2186         944.0         302.0        352.0      759.0        747  ...   \n",
       "\n",
       "      Smoleńsk  Tyniecka  Wadowicka  Wielicka  Średnia temp.  Min. temp.  \\\n",
       "0          0.0       0.0        212       329            7.0         3.0   \n",
       "1          0.0       0.0        206       151            9.0         5.0   \n",
       "2          0.0       0.0        212       182            8.0         4.0   \n",
       "3          0.0       0.0        382       479           10.0         6.0   \n",
       "4          0.0       0.0        386       502           10.0         6.0   \n",
       "...        ...       ...        ...       ...            ...         ...   \n",
       "2182    1010.0     993.0       1377      1303            0.0         0.0   \n",
       "2183     846.0     437.0        972       909            0.0         0.0   \n",
       "2184     470.0    1407.0        646       610            0.0         0.0   \n",
       "2185     518.0    1449.0        627       646            0.0         0.0   \n",
       "2186     424.0     731.0        404       385            0.0         0.0   \n",
       "\n",
       "      Maks. temp.  Odczuwalna temp.  Opady (mm)  Wiatr  \n",
       "0            11.0               4.0         0.0    8.0  \n",
       "1            13.0               7.0         0.0   11.0  \n",
       "2            11.0               6.0         0.0    9.0  \n",
       "3            14.0               7.0         0.0   11.0  \n",
       "4            13.0               7.0         0.0   10.0  \n",
       "...           ...               ...         ...    ...  \n",
       "2182          0.0               0.0         0.0    0.0  \n",
       "2183          0.0               0.0         0.0    0.0  \n",
       "2184          0.0               0.0         0.0    0.0  \n",
       "2185          0.0               0.0         0.0    0.0  \n",
       "2186          0.0               0.0         0.0    0.0  \n",
       "\n",
       "[2187 rows x 24 columns]"
      ]
     },
     "execution_count": 38,
     "metadata": {},
     "output_type": "execute_result"
    }
   ],
   "source": [
    "df = pd.read_csv(\"data.csv\", sep=\",\",parse_dates=[0])\n",
    "df = df.rename(columns={' ' : \"Data\"})\n",
    "df = df.fillna(0)\n",
    "df"
   ]
  },
  {
   "cell_type": "code",
   "execution_count": 43,
   "metadata": {},
   "outputs": [],
   "source": [
    "from sklearn.model_selection import train_test_split\n",
    "\n",
    "df_train, df_test = train_test_split(df, test_size=0.3)"
   ]
  },
  {
   "cell_type": "code",
   "execution_count": 44,
   "metadata": {},
   "outputs": [],
   "source": [
    "street_names =  ['Bora-Komorowskiego',\n",
    "       'Klimeckiego', 'Kopernika', 'Kotlarska',\n",
    "       'Monte Cassino', 'Nowohucka', 'Smoleńsk',\n",
    "       'Tyniecka', 'Wadowicka']\n",
    "\n",
    "alpha = 1E-1\n",
    "nIter = 1000\n",
    "\n",
    "x = df_train[street_names]\n",
    "y = df_train[\"Mogilska\"]\n",
    "init_theta = np.ones(x.shape[1]+1)"
   ]
  },
  {
   "cell_type": "code",
   "execution_count": 45,
   "metadata": {},
   "outputs": [],
   "source": [
    "from termcolor import colored\n",
    "\n",
    "def trainLinearRegression(x, y, init_theta, alpha, nIter):\n",
    "    x = x/x.max()\n",
    "    theta = iterative_batch_gradient(x, y, init_theta, alpha, nIter)\n",
    "    theta = theta[-1]\n",
    "    return theta\n",
    "\n",
    "def plotLinearRegression(x,y, theta):\n",
    "    x = x/x.max()\n",
    "    x = np.column_stack((np.ones(len(x)), x))\n",
    "    y_pred = np.sum(theta*x, axis=1)\n",
    "    pull = (y-y_pred)/y\n",
    "        \n",
    "    plt.hist(pull, bins=np.arange(-1,1,0.1), alpha = 0.5);\n",
    "    print(colored(\"Pull. Mean:\",\"blue\"),\"{:.2f}\".format(np.mean(pull)), end=\" \")\n",
    "    print(colored(\"std.:\",\"blue\"),\"{:.2f}\".format(np.std(pull)))"
   ]
  },
  {
   "cell_type": "code",
   "execution_count": 46,
   "metadata": {},
   "outputs": [
    {
     "name": "stdout",
     "output_type": "stream",
     "text": [
      "\u001b[32mResult on train dataset:\u001b[0m \u001b[34mPull. Mean:\u001b[0m -0.09 \u001b[34mstd.:\u001b[0m 0.31\n",
      "\u001b[32mResult on test dataset:\u001b[0m \u001b[34mPull. Mean:\u001b[0m 0.03 \u001b[34mstd.:\u001b[0m 0.29\n"
     ]
    },
    {
     "data": {
      "image/png": "[encoded data removed]",
      "text/plain": [
       "<Figure size 640x480 with 1 Axes>"
      ]
     },
     "metadata": {},
     "output_type": "display_data"
    }
   ],
   "source": [
    "theta = trainLinearRegression(x, y, init_theta, alpha, nIter)\n",
    "print(colored(\"Result on train dataset:\",\"green\"), end=\" \")\n",
    "plotLinearRegression(x,y, theta)\n",
    "\n",
    "x = df_test[street_names]\n",
    "y = df_test[\"Mogilska\"]\n",
    "print(colored(\"Result on test dataset:\",\"green\"), end=\" \")\n",
    "plotLinearRegression(x,y, theta)"
   ]
  }
 ],
 "metadata": {
  "colab": {
   "collapsed_sections": [],
   "name": "01b_Regresja_liniowa.ipynb",
   "provenance": [
    {
     "file_id": "0BzwQ_Lscn8yDWnZVeHU1MjluWFU",
     "timestamp": 1546856440599
    }
   ]
  },
  "kernelspec": {
   "display_name": "Python 3 (ipykernel)",
   "language": "python",
   "name": "python3"
  },
  "language_info": {
   "codemirror_mode": {
    "name": "ipython",
    "version": 3
   },
   "file_extension": ".py",
   "mimetype": "text/x-python",
   "name": "python",
   "nbconvert_exporter": "python",
   "pygments_lexer": "ipython3",
   "version": "3.8.12"
  }
 },
 "nbformat": 4,
 "nbformat_minor": 4
}
